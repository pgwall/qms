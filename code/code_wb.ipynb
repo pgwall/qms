{
 "cells": [
  {
   "cell_type": "code",
   "execution_count": 186,
   "id": "02891701-18f5-47f9-a5f2-eba33cddc318",
   "metadata": {},
   "outputs": [],
   "source": [
    "import argparse, os, time, gc, copy, yaml\n",
    "\n",
    "import numpy as np\n",
    "import pandas as pd\n",
    "\n",
    "import networkx as nx\n",
    "import networkx.algorithms.components.connected as nxacc\n",
    "import networkx.algorithms.dag as nxadag\n",
    "\n",
    "import torch\n",
    "import torch.utils.data as du\n",
    "from torch.autograd import Variable\n",
    "import torch.nn as nn\n",
    "import torch.nn.functional as F\n",
    "\n",
    "import scipy.stats as stats\n",
    "from sklearn.metrics import mean_squared_error\n",
    "import matplotlib.pyplot as plt\n",
    "import seaborn as sns\n",
    "\n",
    "# from qms_nn import qms_nn\n",
    "from dataloaders import LoadOntology\n",
    "from dataloaders import LoadFeatures"
   ]
  },
  {
   "cell_type": "code",
   "execution_count": 189,
   "id": "3012fd3c-a7bd-4402-a1dd-34b004bad71e",
   "metadata": {},
   "outputs": [],
   "source": [
    "def write_yml(filepath, settings):\n",
    "    with open(filepath, 'w') as f:\n",
    "        yaml.dump(settings, f, default_flow_style=False)\n",
    "        \n",
    "def read_yml(filepath):\n",
    "    with open(filepath, 'r') as f:\n",
    "        settings = yaml.safe_load(f)\n",
    "    return settings"
   ]
  },
  {
   "cell_type": "code",
   "execution_count": 187,
   "id": "d3a06239-ef26-4f3b-8344-01decda72d3c",
   "metadata": {},
   "outputs": [],
   "source": [
    "train_dict = {'features':['chasmplus', 'vest', 'cadd', 'not_scored'], \n",
    "             'dropout':0.0251515151515151, \n",
    "             'weight_decay':0.001321941148466, \n",
    "             'lr':0.0144776120660002, \n",
    "             'batch_size':32, \n",
    "             'cuda_id':0, \n",
    "             'save_model':True, \n",
    "             'save_hiddens':False, \n",
    "             'save_grads':False, \n",
    "             'train_file':'train_dabrafenib_nested_1_1.tsv', \n",
    "             'val_file':'val_dabrafenib_nested_1_1.tsv', \n",
    "             'test_file':'', \n",
    "             'model_folder_name':''}"
   ]
  },
  {
   "cell_type": "code",
   "execution_count": null,
   "id": "43d3f2d6-82ac-46b3-b699-d88d60b7c779",
   "metadata": {},
   "outputs": [],
   "source": [
    "parser.parse_args()"
   ]
  },
  {
   "cell_type": "code",
   "execution_count": null,
   "id": "207740a6-f844-49c1-92f2-cbca21668c96",
   "metadata": {},
   "outputs": [],
   "source": []
  },
  {
   "cell_type": "code",
   "execution_count": null,
   "id": "06100cba-7e1b-462e-af3b-88031e83869b",
   "metadata": {},
   "outputs": [],
   "source": []
  },
  {
   "cell_type": "code",
   "execution_count": null,
   "id": "09e51ef8-e636-488a-bec5-eac5b62147a4",
   "metadata": {},
   "outputs": [],
   "source": []
  },
  {
   "cell_type": "code",
   "execution_count": null,
   "id": "991f1d53-68fb-4b5a-8f4a-a5c22e9afb9a",
   "metadata": {},
   "outputs": [],
   "source": []
  },
  {
   "cell_type": "code",
   "execution_count": 157,
   "id": "8da65e4f-af3d-4381-90d2-006191e7fe15",
   "metadata": {},
   "outputs": [
    {
     "name": "stdout",
     "output_type": "stream",
     "text": [
      "Loaded chasmplus\tshape (1244, 718)\n",
      "Loaded vest\tshape (1244, 718)\n",
      "Loaded cadd\tshape (1244, 718)\n",
      "data dir /cellar/users/pgwall/qms/data\n",
      "There are 702 genes\n",
      "There are 1 roots: GO:0008150\n",
      "There are 807 terms\n",
      "There are 1 connected componenets\n"
     ]
    }
   ],
   "source": [
    "# User provides this ############################\n",
    "saved_model_dir = '/cellar/users/pgwall/qms/test_models/train_dabrafenib_nested_1_1'\n",
    "#################################################\n",
    "\n",
    "res = load_results(saved_model_dir)\n",
    "\n",
    "features = res['features'].item().split('_')\n",
    "num_hiddens_gene = res['num_hiddens_gene'].item()\n",
    "dropout = res['dropout'].item()\n",
    "weight_decay = res['weight_decay'].item()\n",
    "lr = res['lr'].item()\n",
    "batch_size = res['batch_size'].item()\n",
    "\n",
    "# User provides these ############################\n",
    "save_model=True\n",
    "save_hiddens=True\n",
    "save_grads=True\n",
    "\n",
    "train_file = 'train_dabrafenib_nested_1_full.tsv'\n",
    "val_file   = ''\n",
    "test_file  = 'test_dabrafenib_nested_1_1.tsv'\n",
    "\n",
    "user_provided_name = ''\n",
    "if not user_provided_name:\n",
    "    model_name = test_file.split('.')[0]   \n",
    "#################################################\n",
    "\n",
    "# TODO change test_models to final name, remove exist_ok\n",
    "model_dir = os.path.abspath('../test_models/'+model_name)\n",
    "os.makedirs(model_dir, exist_ok=True)\n",
    "\n",
    "features = LoadFeatures(features)\n",
    "ont = LoadOntology()\n",
    "\n",
    "model_info = {'features':'_'.join(features.feature_names), \n",
    "              'model_name':model_name,\n",
    "              'num_hiddens_gene':num_hiddens_gene, \n",
    "              'dropout':dropout, \n",
    "              'weight_decay':weight_decay, \n",
    "              'lr':lr, \n",
    "              'batch_size':batch_size,}"
   ]
  },
  {
   "cell_type": "code",
   "execution_count": 183,
   "id": "1888f9e8-20c2-4e15-b40e-6f28ba3d066c",
   "metadata": {},
   "outputs": [
    {
     "name": "stdout",
     "output_type": "stream",
     "text": [
      "Number of gene nodes created: 718\n",
      "Number of model parameters: 238508\n"
     ]
    }
   ],
   "source": []
  },
  {
   "cell_type": "code",
   "execution_count": 150,
   "id": "f16d03a1-95df-465e-9250-3ccb29831c91",
   "metadata": {},
   "outputs": [],
   "source": []
  },
  {
   "cell_type": "code",
   "execution_count": 171,
   "id": "6e1fa939-a649-4f24-988c-0963c8852bf4",
   "metadata": {},
   "outputs": [],
   "source": [
    "\n"
   ]
  },
  {
   "cell_type": "code",
   "execution_count": null,
   "id": "2ea334c1-f432-491f-9f3a-679f394c02d4",
   "metadata": {},
   "outputs": [],
   "source": []
  },
  {
   "cell_type": "code",
   "execution_count": null,
   "id": "d93f728f-b4ec-41d5-af96-cf566663c28a",
   "metadata": {},
   "outputs": [],
   "source": []
  }
 ],
 "metadata": {
  "kernelspec": {
   "display_name": "jupyter",
   "language": "python",
   "name": "jupyter"
  },
  "language_info": {
   "codemirror_mode": {
    "name": "ipython",
    "version": 3
   },
   "file_extension": ".py",
   "mimetype": "text/x-python",
   "name": "python",
   "nbconvert_exporter": "python",
   "pygments_lexer": "ipython3",
   "version": "3.10.13"
  }
 },
 "nbformat": 4,
 "nbformat_minor": 5
}
